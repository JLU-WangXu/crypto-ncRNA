{
  "nbformat": 4,
  "nbformat_minor": 0,
  "metadata": {
    "colab": {
      "provenance": []
    },
    "kernelspec": {
      "name": "python3",
      "display_name": "Python 3"
    },
    "language_info": {
      "name": "python"
    }
  },
  "cells": [
    {
      "cell_type": "code",
      "execution_count": 1,
      "metadata": {
        "colab": {
          "base_uri": "https://localhost:8080/"
        },
        "id": "ipu84TaKMUvX",
        "outputId": "798a4e98-2509-438e-d650-7819e515fb88"
      },
      "outputs": [
        {
          "output_type": "stream",
          "name": "stdout",
          "text": [
            "QUBO文件已生成: ncRNA_LWE_50dim.csv\n"
          ]
        }
      ],
      "source": [
        "import numpy as np\n",
        "import csv\n",
        "\n",
        "# 实验参数设置（模拟论文中的LWE参数）\n",
        "n = 50          # LWE问题维度（论文中未明确，此处假设为50）\n",
        "q = 1024        # 模数（论文中未明确，假设为1024）\n",
        "lambda_penalty = 0.1  # 稀疏约束权重（需通过参数扫描优化）\n",
        "\n",
        "# 生成模拟公钥参数（假设与实际算法一致）\n",
        "np.random.seed(42)  # 固定随机种子保证可复现性\n",
        "A = np.random.randint(0, q, (n, n))  # 随机均匀分布矩阵A\n",
        "s = np.random.randint(-10, 10, n)    # 短私钥s（范围[-10,10]，符合LWE定义）\n",
        "e = np.random.randint(-5, 5, n)      # 小误差e（范围[-5,5]）\n",
        "b = (A @ s + e) % q                  # 公钥b（模拟实际计算）\n",
        "\n",
        "# 构建QUBO矩阵（基于LWE问题的二次型展开）\n",
        "qubo_size = n * 8  # 每个s_i用8位二进制补码表示\n",
        "Q = np.zeros((qubo_size, qubo_size))\n",
        "\n",
        "for i in range(n):\n",
        "    for k in range(8):\n",
        "        idx = i * 8 + k\n",
        "        coeff = 2 ** k\n",
        "\n",
        "        # 线性项: -2 * b[i] * A[i,j] * coeff\n",
        "        Q[idx, idx] += -2 * b[i] * A[i, i] * coeff\n",
        "\n",
        "        # 二次项: A[i,j] * A[i,k] * 2^(k1 + k2)\n",
        "        for j in range(n):\n",
        "            for l in range(8):\n",
        "                idx2 = j * 8 + l\n",
        "                coeff2 = 2 ** l\n",
        "                Q[idx, idx2] += A[i, j] * A[i, i] * coeff * coeff2\n",
        "\n",
        "        # 稀疏约束项\n",
        "        Q[idx, idx] += lambda_penalty\n",
        "\n",
        "# 转换为对称矩阵（确保QUBO格式正确）\n",
        "Q = (Q + Q.T) / 2\n",
        "\n",
        "# 保存为CSV文件（保留1位小数，适配CIM精度）\n",
        "with open('ncRNA_LWE_50dim.csv', 'w', newline='') as f:\n",
        "    writer = csv.writer(f)\n",
        "    for row in Q:\n",
        "        writer.writerow([f\"{x:.1f}\" for x in row])\n",
        "\n",
        "print(\"QUBO文件已生成: ncRNA_LWE_50dim.csv\")"
      ]
    },
    {
      "cell_type": "code",
      "source": [
        "import numpy as np\n",
        "import csv\n",
        "\n",
        "# 核心参数（严格依据论文）\n",
        "n = 32         # LWE维度 = RNA序列长度(128) / 信息密度(4)\n",
        "q = 251        # 模数（适配RNA碱基的物理约束）\n",
        "bits_per_dim = 5  # 每个s_i用5位二进制补码表示\n",
        "lambda_penalty = 0.01  # 稀疏约束权重（论文中的\"熵驱动算法\"）\n",
        "\n",
        "# 生成模拟参数（与论文方法一致）\n",
        "np.random.seed(42)\n",
        "A = np.random.randint(0, q, (n, n))        # 公钥矩阵A（模拟RNA序列）\n",
        "s = np.random.randint(-5, 6, n)            # 私钥s（短向量，范围[-5,5]）\n",
        "e = np.random.randint(-3, 4, n)            # 误差e（小噪声）\n",
        "b = (A @ s + e) % q                        # 公钥b（模拟RNA折叠特征）\n",
        "\n",
        "# 构建QUBO矩阵（严格限制数值范围）\n",
        "qubo_size = n * bits_per_dim\n",
        "Q = np.zeros((qubo_size, qubo_size))\n",
        "\n",
        "for i in range(n):\n",
        "    for k in range(bits_per_dim):\n",
        "        idx = i * bits_per_dim + k\n",
        "        coeff = 2 ** k\n",
        "\n",
        "        # 线性项: -2 * b[i] * A[i,i] * coeff / q^2（缩放防止溢出）\n",
        "        Q[idx, idx] += -2 * b[i] * A[i, i] * coeff / (q ** 2)\n",
        "\n",
        "        # 二次项: (A[i,j] * coeff1) * (A[i,j] * coeff2) / q^2（二次缩放）\n",
        "        for j in range(n):\n",
        "            coeff_aj = A[i, j] / q\n",
        "            for l in range(bits_per_dim):\n",
        "                idx2 = j * bits_per_dim + l\n",
        "                coeff2 = 2 ** l\n",
        "                Q[idx, idx2] += (coeff_aj ** 2) * coeff * coeff2\n",
        "\n",
        "        # 稀疏约束项（论文中的\"动态位置约束\"）\n",
        "        Q[idx, idx] += lambda_penalty * (k + 1)  # 高位权重更高\n",
        "\n",
        "# 对称化并限制精度\n",
        "Q = np.round((Q + Q.T) / 2, 1)\n",
        "\n",
        "# 保存为CSV（严格适配CIM格式）\n",
        "with open('ncRNA_LWE_32dim.csv', 'w', newline='') as f:\n",
        "    writer = csv.writer(f)\n",
        "    for row in Q:\n",
        "        writer.writerow(row)\n",
        "\n",
        "print(\"QUBO文件已生成: ncRNA_LWE_32dim.csv\")"
      ],
      "metadata": {
        "colab": {
          "base_uri": "https://localhost:8080/"
        },
        "id": "6X1ZxtruMVpt",
        "outputId": "039f67c6-b782-41db-94b4-b2f4a2054a71"
      },
      "execution_count": 2,
      "outputs": [
        {
          "output_type": "stream",
          "name": "stdout",
          "text": [
            "QUBO文件已生成: ncRNA_LWE_32dim.csv\n"
          ]
        }
      ]
    },
    {
      "cell_type": "code",
      "source": [
        "import numpy as np\n",
        "import csv\n",
        "from kaiwu.cim import adjust_qubo_matrix_precision  # Kaiwu精度调整工具\n",
        "\n",
        "# 核心参数（严格约束动态范围）\n",
        "n = 16          # 降低维度（适配8bit硬件限制）\n",
        "q = 127         # 模数设为8bit最大值（确保缩放后不溢出）\n",
        "bits_per_dim = 4  # 每个s_i用4位表示（进一步压缩）\n",
        "lambda_penalty = 0.001  # 更小的稀疏约束\n",
        "\n",
        "# 生成模拟参数（严格限制数值范围）\n",
        "np.random.seed(42)\n",
        "A = np.random.randint(0, q//2, (n, n))  # 矩阵A元素不超过63\n",
        "s = np.random.randint(-3, 4, n)         # 私钥范围[-3,3]\n",
        "e = np.random.randint(-2, 3, n)         # 误差范围[-2,2]\n",
        "b = (A @ s + e) % q\n",
        "\n",
        "# 构建QUBO矩阵（分阶段缩放）\n",
        "qubo_size = n * bits_per_dim\n",
        "Q = np.zeros((qubo_size, qubo_size))\n",
        "\n",
        "# 第一阶段：原始QUBO构造\n",
        "for i in range(n):\n",
        "    for k in range(bits_per_dim):\n",
        "        idx = i * bits_per_dim + k\n",
        "        coeff = 2 ** k\n",
        "\n",
        "        # 线性项（除以q^2并放大1000倍避免浮点）\n",
        "        linear_term = -2 * b[i] * A[i, i] * coeff\n",
        "        Q[idx, idx] += linear_term / (q ** 2) * 1000\n",
        "\n",
        "        # 二次项（同缩放）\n",
        "        for j in range(n):\n",
        "            for l in range(bits_per_dim):\n",
        "                idx2 = j * bits_per_dim + l\n",
        "                coeff2 = 2 ** l\n",
        "                quad_term = A[i, j] ** 2 * coeff * coeff2\n",
        "                Q[idx, idx2] += quad_term / (q ** 2) * 1000\n",
        "\n",
        "        # 稀疏约束\n",
        "        Q[idx, idx] += lambda_penalty * 1000\n",
        "\n",
        "# 第二阶段：对称化+整数化\n",
        "Q = np.round((Q + Q.T) / 2).astype(int)\n",
        "\n",
        "# 第三阶段：Kaiwu动态范围压缩\n",
        "Q_qubo = adjust_qubo_matrix_precision(Q, target_min=-128, target_max=127)\n",
        "\n",
        "# 保存为CSV（严格8bit整数）\n",
        "with open('ncRNA_LWE_16dim_8bit.csv', 'w', newline='') as f:\n",
        "    writer = csv.writer(f)\n",
        "    for row in Q_qubo:\n",
        "        writer.writerow(row)\n",
        "\n",
        "print(\"QUBO文件已生成: ncRNA_LWE_16dim_8bit.csv\")"
      ],
      "metadata": {
        "colab": {
          "base_uri": "https://localhost:8080/",
          "height": 405
        },
        "id": "MHvLyERQNXI5",
        "outputId": "7b3ae4f7-90a6-4d4f-cbaf-bd8be6adee13"
      },
      "execution_count": 3,
      "outputs": [
        {
          "output_type": "error",
          "ename": "ModuleNotFoundError",
          "evalue": "No module named 'kaiwu'",
          "traceback": [
            "\u001b[0;31m---------------------------------------------------------------------------\u001b[0m",
            "\u001b[0;31mModuleNotFoundError\u001b[0m                       Traceback (most recent call last)",
            "\u001b[0;32m<ipython-input-3-c971f3cdc96c>\u001b[0m in \u001b[0;36m<cell line: 0>\u001b[0;34m()\u001b[0m\n\u001b[1;32m      1\u001b[0m \u001b[0;32mimport\u001b[0m \u001b[0mnumpy\u001b[0m \u001b[0;32mas\u001b[0m \u001b[0mnp\u001b[0m\u001b[0;34m\u001b[0m\u001b[0;34m\u001b[0m\u001b[0m\n\u001b[1;32m      2\u001b[0m \u001b[0;32mimport\u001b[0m \u001b[0mcsv\u001b[0m\u001b[0;34m\u001b[0m\u001b[0;34m\u001b[0m\u001b[0m\n\u001b[0;32m----> 3\u001b[0;31m \u001b[0;32mfrom\u001b[0m \u001b[0mkaiwu\u001b[0m\u001b[0;34m.\u001b[0m\u001b[0mcim\u001b[0m \u001b[0;32mimport\u001b[0m \u001b[0madjust_qubo_matrix_precision\u001b[0m  \u001b[0;31m# Kaiwu精度调整工具\u001b[0m\u001b[0;34m\u001b[0m\u001b[0;34m\u001b[0m\u001b[0m\n\u001b[0m\u001b[1;32m      4\u001b[0m \u001b[0;34m\u001b[0m\u001b[0m\n\u001b[1;32m      5\u001b[0m \u001b[0;31m# 核心参数（严格约束动态范围）\u001b[0m\u001b[0;34m\u001b[0m\u001b[0;34m\u001b[0m\u001b[0m\n",
            "\u001b[0;31mModuleNotFoundError\u001b[0m: No module named 'kaiwu'",
            "",
            "\u001b[0;31m---------------------------------------------------------------------------\u001b[0;32m\nNOTE: If your import is failing due to a missing package, you can\nmanually install dependencies using either !pip or !apt.\n\nTo view examples of installing some common dependencies, click the\n\"Open Examples\" button below.\n\u001b[0;31m---------------------------------------------------------------------------\u001b[0m\n"
          ],
          "errorDetails": {
            "actions": [
              {
                "action": "open_url",
                "actionText": "Open Examples",
                "url": "/notebooks/snippets/importing_libraries.ipynb"
              }
            ]
          }
        }
      ]
    },
    {
      "cell_type": "code",
      "source": [
        "import numpy as np\n",
        "import csv\n",
        "\n",
        "def adjust_qubo_matrix(Q, target_min=-128, target_max=127):\n",
        "    \"\"\"手动实现QUBO矩阵精度压缩到8bit整数\"\"\"\n",
        "    # 计算原始矩阵的极值\n",
        "    current_min = np.min(Q)\n",
        "    current_max = np.max(Q)\n",
        "\n",
        "    # 线性缩放系数\n",
        "    scale = (target_max - target_min) / (current_max - current_min)\n",
        "\n",
        "    # 缩放并取整\n",
        "    Q_scaled = (Q - current_min) * scale + target_min\n",
        "    Q_int = np.round(Q_scaled).astype(int)\n",
        "\n",
        "    # 二次裁剪确保不越界\n",
        "    Q_int = np.clip(Q_int, target_min, target_max)\n",
        "    return Q_int\n",
        "\n",
        "# 核心参数（严格约束动态范围）\n",
        "n = 16          # 维度\n",
        "q = 127         # 模数（适配8bit）\n",
        "bits_per_dim = 4  # 每个s_i用4位表示\n",
        "lambda_penalty = 0.001  # 稀疏约束\n",
        "\n",
        "# 生成参数（限制数值范围）\n",
        "np.random.seed(42)\n",
        "A = np.random.randint(0, q//2, (n, n))  # 元素不超过63\n",
        "s = np.random.randint(-3, 4, n)         # 私钥范围[-3,3]\n",
        "e = np.random.randint(-2, 3, n)         # 误差范围[-2,2]\n",
        "b = (A @ s + e) % q\n",
        "\n",
        "# 构建QUBO矩阵（分阶段缩放）\n",
        "qubo_size = n * bits_per_dim\n",
        "Q = np.zeros((qubo_size, qubo_size))\n",
        "\n",
        "# 构造原始矩阵（已缩小范围）\n",
        "for i in range(n):\n",
        "    for k in range(bits_per_dim):\n",
        "        idx = i * bits_per_dim + k\n",
        "        coeff = 2 ** k\n",
        "\n",
        "        # 线性项（除以q^2防止溢出）\n",
        "        linear_term = -2 * b[i] * A[i, i] * coeff\n",
        "        Q[idx, idx] += linear_term / (q ** 2)\n",
        "\n",
        "        # 二次项（同缩放）\n",
        "        for j in range(n):\n",
        "            for l in range(bits_per_dim):\n",
        "                idx2 = j * bits_per_dim + l\n",
        "                coeff2 = 2 ** l\n",
        "                quad_term = A[i, j] ** 2 * coeff * coeff2\n",
        "                Q[idx, idx2] += quad_term / (q ** 2)\n",
        "\n",
        "        # 稀疏约束\n",
        "        Q[idx, idx] += lambda_penalty\n",
        "\n",
        "# 对称化+放大到整数范围\n",
        "Q = (Q + Q.T) / 2\n",
        "Q_scaled = Q * 1e4  # 放大1万倍保留整数精度\n",
        "Q_int = adjust_qubo_matrix(Q_scaled)  # 压缩到8bit\n",
        "\n",
        "# 保存为CSV\n",
        "with open('ncRNA_LWE_16dim_8bit.csv', 'w', newline='') as f:\n",
        "    writer = csv.writer(f)\n",
        "    for row in Q_int:\n",
        "        writer.writerow(row)\n",
        "\n",
        "print(\"QUBO文件已生成: ncRNA_LWE_16dim_8bit.csv\")"
      ],
      "metadata": {
        "colab": {
          "base_uri": "https://localhost:8080/"
        },
        "id": "Z_Sm4KiEORLm",
        "outputId": "44c42e1b-00da-4728-d95a-a5736d0a9014"
      },
      "execution_count": 1,
      "outputs": [
        {
          "output_type": "stream",
          "name": "stdout",
          "text": [
            "QUBO文件已生成: ncRNA_LWE_16dim_8bit.csv\n"
          ]
        }
      ]
    },
    {
      "cell_type": "code",
      "source": [
        "import numpy as np\n",
        "import csv\n",
        "\n",
        "def generate_banded_qubo(n_dim=5, bits=5):\n",
        "    \"\"\"生成带状对称QUBO矩阵\"\"\"\n",
        "    matrix_size = n_dim * bits\n",
        "    Q = np.zeros((matrix_size, matrix_size))\n",
        "\n",
        "    # 核心参数设置\n",
        "    diag_base = -128    # 对角线基准值\n",
        "    band_value = 88     # 带状非零值\n",
        "    decay_factor = 0.5  # 非对角衰减系数\n",
        "\n",
        "    # 构造带状矩阵\n",
        "    for i in range(matrix_size):\n",
        "        # 对角线元素\n",
        "        Q[i,i] = diag_base + 4 * (i % bits)\n",
        "\n",
        "        # 带状非对角元素\n",
        "        for offset in [1, bits]:  # 相邻位和跨维度耦合\n",
        "            if i + offset < matrix_size:\n",
        "                val = int(band_value * (decay_factor ** (offset//bits)))\n",
        "                Q[i, i+offset] = val\n",
        "                Q[i+offset, i] = val\n",
        "\n",
        "    # 强制8bit范围约束\n",
        "    Q = np.clip(Q, -128, 127)\n",
        "    return Q.astype(int)\n",
        "\n",
        "# 生成25x25矩阵（n_dim=5, bits=5）\n",
        "qubo_matrix = generate_banded_qubo(n_dim=5, bits=5)\n",
        "\n",
        "# 保存CSV文件\n",
        "with open('ncRNA_QUBO_25x25.csv', 'w', newline='') as f:\n",
        "    writer = csv.writer(f)\n",
        "    for row in qubo_matrix:\n",
        "        writer.writerow(row)\n",
        "\n",
        "print(\"QUBO文件已生成: ncRNA_QUBO_25x25.csv\")"
      ],
      "metadata": {
        "id": "ca8I7vRtQmK1",
        "outputId": "7693a4c9-0293-4aff-f709-06bbc7a63773",
        "colab": {
          "base_uri": "https://localhost:8080/"
        }
      },
      "execution_count": 2,
      "outputs": [
        {
          "output_type": "stream",
          "name": "stdout",
          "text": [
            "QUBO文件已生成: ncRNA_QUBO_25x25.csv\n"
          ]
        }
      ]
    },
    {
      "cell_type": "code",
      "source": [
        "import numpy as np\n",
        "import csv\n",
        "\n",
        "# ======================== 通用工具函数 ========================\n",
        "def save_qubo(matrix, filename):\n",
        "    \"\"\"保存QUBO矩阵为CSV文件（强制8bit整数）\"\"\"\n",
        "    clipped = np.clip(matrix, -128, 127).astype(int)\n",
        "    with open(filename, 'w', newline='') as f:\n",
        "        writer = csv.writer(f)\n",
        "        writer.writerows(clipped)\n",
        "    print(f\"文件已生成: {filename}\")\n",
        "\n",
        "# ======================== 算法QUBO生成器 ========================\n",
        "def generate_ncRNA_LWE(n=5, bits=5):\n",
        "    \"\"\"生成ncRNA的LWE问题QUBO矩阵（带状对称结构）\"\"\"\n",
        "    size = n * bits\n",
        "    Q = np.zeros((size, size))\n",
        "\n",
        "    # 核心参数（模拟RNA折叠特性）\n",
        "    diag_base = -128\n",
        "    band_value = 88\n",
        "    decay = 0.5\n",
        "\n",
        "    for i in range(size):\n",
        "        # 对角线：模拟不同维度的能量梯度\n",
        "        Q[i,i] = diag_base + 4 * (i % bits)\n",
        "\n",
        "        # 带状耦合：模拟RNA结构约束\n",
        "        for offset in [1, bits]:\n",
        "            if i + offset < size:\n",
        "                val = int(band_value * (decay ** (offset//bits)))\n",
        "                Q[i, i+offset] = val\n",
        "                Q[i+offset, i] = val\n",
        "\n",
        "    return Q\n",
        "\n",
        "def generate_RSA_factorization(prime_bits=50):\n",
        "    \"\"\"生成RSA分解问题的QUBO矩阵（简化到100位）\"\"\"\n",
        "    size = 100  # 50位p + 50位q\n",
        "    Q = np.zeros((size, size))\n",
        "\n",
        "    # 对角线：大数分解的位约束\n",
        "    np.fill_diagonal(Q, -128)\n",
        "\n",
        "    # 非对角：乘积约束（高密度耦合）\n",
        "    for i in range(50):\n",
        "        for j in range(50):\n",
        "            Q[i, 50+j] = 64  # 模拟p_i * q_j项\n",
        "            Q[50+j, i] = 64\n",
        "\n",
        "    return np.clip(Q, -128, 127)\n",
        "\n",
        "def generate_AES_keysearch(key_bits=256):\n",
        "    \"\"\"生成AES密钥搜索的QUBO矩阵（对角模型）\"\"\"\n",
        "    Q = np.diag([-128]*key_bits)  # 对角项表示密钥位约束\n",
        "\n",
        "    # 添加弱耦合项（模拟密文匹配）\n",
        "    for i in range(0, key_bits, 8):\n",
        "        Q[i:i+8, i:i+8] += 32  # 每字节弱耦合\n",
        "\n",
        "    return np.clip(Q, -128, 127)\n",
        "\n",
        "# ======================== 生成与测试 ========================\n",
        "if __name__ == \"__main__\":\n",
        "    # 生成QUBO矩阵\n",
        "    qubo_ncRNA = generate_ncRNA_LWE(n=5, bits=5)   # 25x25\n",
        "    qubo_RSA = generate_RSA_factorization()        # 100x100\n",
        "    qubo_AES = generate_AES_keysearch()            # 256x256\n",
        "\n",
        "    # 保存文件\n",
        "    save_qubo(qubo_ncRNA, \"ncRNA_LWE_25x25.csv\")\n",
        "    save_qubo(qubo_RSA, \"RSA_100bit.csv\")\n",
        "    save_qubo(qubo_AES, \"AES_256bit.csv\")"
      ],
      "metadata": {
        "id": "h_6gVyAMSHIl",
        "outputId": "374dc528-0e56-4cf5-b3ba-6e8ce91f0b0e",
        "colab": {
          "base_uri": "https://localhost:8080/"
        }
      },
      "execution_count": 1,
      "outputs": [
        {
          "output_type": "stream",
          "name": "stdout",
          "text": [
            "文件已生成: ncRNA_LWE_25x25.csv\n",
            "文件已生成: RSA_100bit.csv\n",
            "文件已生成: AES_256bit.csv\n"
          ]
        }
      ]
    },
    {
      "cell_type": "code",
      "source": [],
      "metadata": {
        "id": "ECFzwmJHSHu6"
      },
      "execution_count": null,
      "outputs": []
    }
  ]
}